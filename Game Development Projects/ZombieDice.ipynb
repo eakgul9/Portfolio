{
  "nbformat": 4,
  "nbformat_minor": 0,
  "metadata": {
    "kernelspec": {
      "display_name": "Python 3",
      "language": "python",
      "name": "python3"
    },
    "language_info": {
      "codemirror_mode": {
        "name": "ipython",
        "version": 3
      },
      "file_extension": ".py",
      "mimetype": "text/x-python",
      "name": "python",
      "nbconvert_exporter": "python",
      "pygments_lexer": "ipython3",
      "version": "3.7.3"
    },
    "colab": {
      "name": "ZombieDice.ipynb",
      "provenance": [],
      "collapsed_sections": [],
      "include_colab_link": true
    }
  },
  "cells": [
    {
      "cell_type": "markdown",
      "metadata": {
        "id": "view-in-github",
        "colab_type": "text"
      },
      "source": [
        "<a href=\"https://colab.research.google.com/github/lmu-cmsi1010-fall2021/1010-project-adam-callista-eylul/blob/main/ZombieDice.ipynb\" target=\"_parent\"><img src=\"https://colab.research.google.com/assets/colab-badge.svg\" alt=\"Open In Colab\"/></a>"
      ]
    },
    {
      "cell_type": "markdown",
      "metadata": {
        "id": "_SRkE53ipbqf"
      },
      "source": [
        "![Zombie Dice](https://inventwithpython.com/images/zombiedice_dice.jpg)\n",
        "\n",
        "Rules and resources here: [Zombie Dice](http://www.sjgames.com/dice/zombiedice/)"
      ]
    },
    {
      "cell_type": "markdown",
      "metadata": {
        "id": "UYlEdS2Xpbqh"
      },
      "source": [
        "## Part One: Strategize\n",
        "\n",
        "Read the rules of the game carefully. On paper or a whiteboard, determine what classes and subclasses you need to create this game. What values and bahaviors belong to these classes? Think about the game step by step, what is happening and what information is needed? Try to forget about specific lines of code for this part and maybe even spend MOST of your time here planning. Draw [class diagrams](http://greenteapress.com/thinkpython2/html/thinkpython2019.html) for classes and flow charts for each function.\n",
        "\n",
        "**Requirements to account for in your strategy:**\n",
        "\n",
        "- You will need a `Dice` class, a `ZombieDiceGame` class, and a `Player` class with appropriate attribute values and functions, along with `Dice` subclasses to represent the green, yellow, and red dice that come with the game. \n",
        "- Dice subclasses should have emoji faces, rather than dots and keep track of whether the roll result is a brain, blast, or footprints. Because dice still have 6 sides, and dictionaries require unique keys, it may be useful to keep the value of the roll attribute numerical.\n",
        "- At least 2 `Player` subclasses, one representing a different strategy than your default (e.g., greedy or random) and the other to implement an `InteractiveMode` where user input determines whether to roll again or not\n",
        "- All rules and features of the game should be implemented correctly, including but not limited to allowing for 2 or more players, using 13 dice, finishing the round even after a player has won, etc.\n",
        "- If you are working in a team, you must also implement one of the [Zombie Dice expansions](https://en.wikipedia.org/wiki/Zombie_Dice#Expansions): *Zombie Dice 2: Double Feature* with 3 additional special dice, or *Zombie Dice 3: School Bus* with a 12-sided dice and some more intricate player decision making."
      ]
    },
    {
      "cell_type": "markdown",
      "metadata": {
        "id": "8zNqhV3epbqh"
      },
      "source": [
        "## Part Two: Implement\n",
        "\n",
        "A `Dice` class is provided for you in the cell below. You may adapt the `Dice` class definition or use it as is. Either way, you will write new `GreenDice`,`YellowDice`, and `RedDice` subclasses.\n",
        "\n",
        "Your `ZombieDiceGame` class should facilitate players taking turns and determine when a player wins. Instanciating a new game should at least require `Player` objects, _who_ will play the game. `ZombieDiceGame` must accept a variable number of players. For example...\n",
        "\n",
        "    p1 = Player('Camila')\n",
        "    p2 = GreedyPlayer('Leo')\n",
        "    p3 = InteractiveMode('Rodrigo')\n",
        "    \n",
        "    z = ZombieDiceGame(p1, p2, p3)\n",
        "    z.play()\n",
        "\n",
        "Your `Player` class should model behaviors of following the rules to take a turn and making choices in the game, which can be random, strategic, some default, or based on input like the `InteractiveMode` will be.\n",
        "\n",
        "All of your class definitions should demonstrate:\n",
        "\n",
        "- separation of concerns, \n",
        "- proper use of naming conventions, \n",
        "- proper use of class and object attributes, \n",
        "- proper use of arguments including `self`, \n",
        "- well-named functions and variables and/or clear, concise documentation (i.e., your code should be easy to read), \n",
        "- appropriate use of loops and data structures as needed (e.g., lists, dictionaries, tuples)\n",
        "\n",
        "And when you instantiate objects and call the methods of those objects (Part 3) your code should run without errors.\n",
        "\n",
        "**Optional, fun:** Change the theme. Instead of *zombies* chasing *humans* collecting *brains*, your game can be based on any chase-and-collect scenario. Must be non-violent if game characters are based on real people."
      ]
    },
    {
      "cell_type": "code",
      "metadata": {
        "id": "xDaSSlReuuR9",
        "colab": {
          "base_uri": "https://localhost:8080/"
        },
        "outputId": "c6cde11b-56e4-460e-d64f-e10f18440c2e"
      },
      "source": [
        "!pip3 install emoji"
      ],
      "execution_count": null,
      "outputs": [
        {
          "output_type": "stream",
          "name": "stdout",
          "text": [
            "Collecting emoji\n",
            "  Downloading emoji-1.6.1.tar.gz (170 kB)\n",
            "\u001b[?25l\r\u001b[K     |██                              | 10 kB 13.8 MB/s eta 0:00:01\r\u001b[K     |███▉                            | 20 kB 14.3 MB/s eta 0:00:01\r\u001b[K     |█████▉                          | 30 kB 14.3 MB/s eta 0:00:01\r\u001b[K     |███████▊                        | 40 kB 16.0 MB/s eta 0:00:01\r\u001b[K     |█████████▋                      | 51 kB 4.5 MB/s eta 0:00:01\r\u001b[K     |███████████▋                    | 61 kB 5.2 MB/s eta 0:00:01\r\u001b[K     |█████████████▌                  | 71 kB 5.5 MB/s eta 0:00:01\r\u001b[K     |███████████████▍                | 81 kB 6.1 MB/s eta 0:00:01\r\u001b[K     |█████████████████▍              | 92 kB 6.1 MB/s eta 0:00:01\r\u001b[K     |███████████████████▎            | 102 kB 5.2 MB/s eta 0:00:01\r\u001b[K     |█████████████████████▏          | 112 kB 5.2 MB/s eta 0:00:01\r\u001b[K     |███████████████████████▏        | 122 kB 5.2 MB/s eta 0:00:01\r\u001b[K     |█████████████████████████       | 133 kB 5.2 MB/s eta 0:00:01\r\u001b[K     |███████████████████████████     | 143 kB 5.2 MB/s eta 0:00:01\r\u001b[K     |█████████████████████████████   | 153 kB 5.2 MB/s eta 0:00:01\r\u001b[K     |██████████████████████████████▉ | 163 kB 5.2 MB/s eta 0:00:01\r\u001b[K     |████████████████████████████████| 170 kB 5.2 MB/s \n",
            "\u001b[?25hBuilding wheels for collected packages: emoji\n",
            "  Building wheel for emoji (setup.py) ... \u001b[?25l\u001b[?25hdone\n",
            "  Created wheel for emoji: filename=emoji-1.6.1-py3-none-any.whl size=169314 sha256=ff615415438527bac162d44d5323686bf31337fabc3b80e931465e11048764f3\n",
            "  Stored in directory: /root/.cache/pip/wheels/ea/5f/d3/03d313ddb3c2a1a427bb4690f1621eea60fe6f2a30cc95940f\n",
            "Successfully built emoji\n",
            "Installing collected packages: emoji\n",
            "Successfully installed emoji-1.6.1\n"
          ]
        }
      ]
    },
    {
      "cell_type": "code",
      "metadata": {
        "id": "djUgjvqGpbqi"
      },
      "source": [
        "# https://pypi.org/project/emoji/\n",
        "import emoji"
      ],
      "execution_count": null,
      "outputs": []
    },
    {
      "cell_type": "code",
      "metadata": {
        "id": "D_lgFTSFpbqj",
        "colab": {
          "base_uri": "https://localhost:8080/"
        },
        "outputId": "fcff7612-f030-48d9-d495-addeb9539317"
      },
      "source": [
        "# For reference...\n",
        "print(emoji.emojize('Possible new :woman_zombie::man_zombie: Dice faces... :brain:, :collision:, :footprints: :military_helmet::glass_of_milk: :'))\n",
        "print('Copying and pasting 🧟‍♀️, 🧟‍♂️, 🧠, 💥, 👣 also usually works :military_helmet: :glass_of_milk:')"
      ],
      "execution_count": null,
      "outputs": [
        {
          "output_type": "stream",
          "name": "stdout",
          "text": [
            "Possible new 🧟‍♀️🧟‍♂️ Dice faces... 🧠, 💥, 👣 🪖🥛 :\n",
            "Copying and pasting 🧟‍♀️, 🧟‍♂️, 🧠, 💥, 👣 also usually works :military_helmet: :glass_of_milk:\n"
          ]
        }
      ]
    },
    {
      "cell_type": "code",
      "metadata": {
        "id": "vEkztT2kpbqj"
      },
      "source": [
        "from random import choice, randint\n",
        "from time import sleep\n",
        "\n",
        "class Dice:\n",
        "    diceColor = \"Not set\"\n",
        "    faces = {1: '[ . ]', 2: '[ : ]', 3: '[: .]', \n",
        "             4:'[: :]', 5: '[:.:]', 6: '[:::]'}\n",
        "    \n",
        "    def __init__(self, sides=6):\n",
        "        self.sides = sides\n",
        "        self.value = None\n",
        "        \n",
        "    def __str__(self):\n",
        "        if self.value == None:\n",
        "            return 'Ready to roll!'\n",
        "        \n",
        "        elif self.value > 6:\n",
        "            return '[ ' + str(self.value) + ' ]'\n",
        "        \n",
        "        else:\n",
        "            return self.faces[self.value]\n",
        "        \n",
        "    def roll(self):\n",
        "        self.value = randint(1,self.sides)"
      ],
      "execution_count": null,
      "outputs": []
    },
    {
      "cell_type": "code",
      "metadata": {
        "id": "5tTax8-Hpbqk"
      },
      "source": [
        "# Implement Dice subclasses.\n",
        "#Dice subclasses should have emoji faces, rather than dots and keep track of whether the roll result is a brain, blast, or footprints.\n",
        "#Because dice still have 6 sides, and dictionaries require unique keys, it may be useful to keep the value of the roll attribute numerical.\n",
        "#Dice subclasses to represent the green, yellow, and red dice that come with the game. \n",
        "class greenDice(Dice):\n",
        "  diceColor = \"Green\"\n",
        "  faces = {1: '🧠', 2: '🧠', 3: '🧠', \n",
        "             4:'🧠', 5: '💥', 6: '👣'}\n",
        "\n",
        "class yellowDice(Dice):\n",
        "  diceColor = \"Yellow\"\n",
        "  faces = {1: '🧠', 2: '🧠', 3: '💥', \n",
        "             4:'👣', 5: '💥', 6: '👣'}\n",
        "\n",
        "class redDice(Dice):\n",
        "  diceColor = \"Red\"\n",
        "  faces = {1: '🧠', 2: '👣', 3: '💥', \n",
        "             4:'💥', 5: '💥', 6: '👣'}"
      ],
      "execution_count": null,
      "outputs": []
    },
    {
      "cell_type": "code",
      "source": [
        "#expansion for zombies 2\n",
        "class hunkDice(Dice):\n",
        "  diceColor = \"Hunk\"\n",
        "  faces = {1: '👣', 2: '👣', 3: '💥', \n",
        "             4:'💥', 5: '💥💥', 6: '🧠🧠'}\n",
        "\n",
        "class hottieDice(Dice):\n",
        "  diceColor = \"Hottie\"\n",
        "  faces = {1: '👣', 2: '👣', 3: '👣', \n",
        "             4:'💥', 5: '💥', 6: '🧠'}\n",
        "\n",
        "class santaDice(Dice):\n",
        "  diceColor = \"Santa\"\n",
        "  faces = {1: '🧠', 2: '👣', 3: '💥', \n",
        "             4:'🧠🧠', 5: '🪖', 6: '🥛'}"
      ],
      "metadata": {
        "id": "KtfN48OOeyml"
      },
      "execution_count": null,
      "outputs": []
    },
    {
      "cell_type": "code",
      "metadata": {
        "id": "8Lt0J3lcpbqk"
      },
      "source": [
        "# Implement a Player class and subclasses.\n",
        "#At least 2 Player subclasses, one representing a different strategy than your default (e.g., greedy or random)\n",
        "#and the other to implement an InteractiveMode where user input determines whether to roll again or not\n",
        "class Player:\n",
        "  def __init__(self, name):\n",
        "      self.name = name\n",
        "      self.score = 0\n",
        "      self.turnBrains = 0\n",
        "      self.turnShotgun = 0\n",
        "      self.turnGreenDice = 5\n",
        "      self.turnYellowDice = 2\n",
        "      self.turnRedDice = 3\n",
        "      self.turnHunkDice = 1\n",
        "      self.turnSantaDice = 1\n",
        "      self.turnHottieDice = 1\n",
        "      self.diceToReroll = []\n",
        "      self.hunkDied = False\n",
        "      self.hottieDied = False\n",
        "      self.santaDied = False\n",
        "      self.helmet = False\n",
        "      self.drink = False\n",
        "\n",
        "\n",
        "  def pickDice(self):\n",
        "    totalDice = 0\n",
        "    totalDice += self.turnGreenDice\n",
        "    totalDice += self.turnYellowDice\n",
        "    totalDice += self.turnRedDice\n",
        "    totalDice += self.turnSantaDice\n",
        "    totalDice += self.turnHunkDice\n",
        "    totalDice += self.turnHottieDice\n",
        "    rand = randint(1, totalDice)\n",
        "    if rand <= self.turnGreenDice:\n",
        "      self.turnGreenDice -= 1\n",
        "      dice = greenDice()\n",
        "      return dice\n",
        "    elif rand <= self.turnYellowDice + self.turnGreenDice:\n",
        "      self.turnYellowDice -= 1\n",
        "      dice = yellowDice()\n",
        "      return dice\n",
        "    elif rand <= self.turnYellowDice + self.turnGreenDice + self.turnRedDice:\n",
        "      self.turnRedDice -= 1\n",
        "      dice = redDice()\n",
        "      return dice\n",
        "    elif rand <= self.turnYellowDice + self.turnGreenDice + self.turnRedDice + self.turnHunkDice:\n",
        "      self.turnHunkDice -= 1\n",
        "      dice = hunkDice()\n",
        "      return dice\n",
        "    elif rand <= self.turnYellowDice + self.turnGreenDice + self.turnRedDice + self.turnHunkDice + self.turnSantaDice:\n",
        "      self.turnSantaDice -= 1\n",
        "      dice = santaDice()\n",
        "      return dice\n",
        "    else:\n",
        "      self.turnHottieDice -= 1\n",
        "      dice = hottieDice()\n",
        "      return dice\n",
        "      \n",
        "  def rollForTurn(self):\n",
        "    numDiceToRoll = 3 - len(self.diceToReroll)\n",
        "    diceForTurn = []\n",
        "    while numDiceToRoll > 0:\n",
        "      diceForTurn.append(self.pickDice())\n",
        "      numDiceToRoll -= 1\n",
        "    for n in self.diceToReroll:\n",
        "      diceForTurn.append(n)\n",
        "    diceToReroll = []\n",
        "    for i in diceForTurn:\n",
        "      i.roll()\n",
        "      if i.faces[i.value] == '🧠':\n",
        "        print(\"Rolling \" + i.diceColor + \" Dice\")\n",
        "        print(\"You rolled 🧠\")\n",
        "        self.turnBrains += 1\n",
        "        if i == hottieDice():\n",
        "          self.hottieDied = True\n",
        "        if i == santaDice():\n",
        "          self.santaDied = True\n",
        "      if i.faces[i.value] == '💥':\n",
        "        print(\"Rolling \" + i.diceColor + \" Dice\")\n",
        "        print(\"You rolled 💥\")\n",
        "        self.turnShotgun += 1\n",
        "        if i == hottieDice() and self.hunkDied == True:\n",
        "          self.turnBrains -= 2\n",
        "          self.turnHunkDice += 1\n",
        "        if i == hottieDice() and self.santaDied == True:\n",
        "          self.turnBrains -= 1\n",
        "          self.turnSantaDice += 1\n",
        "        if i == hunkDice() and self.hottieDied == True:\n",
        "          self.turnBrains -= 1\n",
        "          self.turnHottieDice += 1\n",
        "        if i == hunkDice() and self.santaDied == True:\n",
        "          self.turnBrains -= 1\n",
        "          self.turnSantaDice += 1\n",
        "        if i == santaDice() and self.hunkDied == True:\n",
        "          self.turnBrains -= 2\n",
        "          self.turnHunkDice += 1\n",
        "        if i == santaDice() and self.hottieDied == True:\n",
        "          self.turnBrains -= 1\n",
        "          self.turnHottieDice += 1\n",
        "      if i.faces[i.value] == '💥💥':\n",
        "        print(\"Rolling \" + i.diceColor + \" Dice\")\n",
        "        print(\"You rolled 💥💥\")\n",
        "        self.turnShotgun += 2\n",
        "        if i == hunkDice() and self.hottieDied == True:\n",
        "          self.turnBrains -= 1\n",
        "          self.turnHottieDice += 1\n",
        "        if i == hunkDice() and self.santaDied == True:\n",
        "          self.turnBrains -= 1\n",
        "          self.turnSantaDice += 1\n",
        "      if i.faces[i.value] == '👣':\n",
        "        print(\"Rolling \" + i.diceColor + \" Dice\")\n",
        "        print(\"You rolled 👣\")\n",
        "        if self.drink == True:\n",
        "          self.turnBrains += 1\n",
        "        else:\n",
        "          self.diceToReroll.append(i)\n",
        "      if i.faces[i.value] == '🪖':\n",
        "        print(\"Rolling \" + i.diceColor + \" Dice\")\n",
        "        print(\"You rolled 🪖\")\n",
        "        self.helmet = True\n",
        "      if i.faces[i.value] == '🥛':\n",
        "        print(\"Rolling \" + i.diceColor + \" Dice\")\n",
        "        print(\"You rolled 🥛\")\n",
        "        self.diceToReroll.append(i)\n",
        "        self.drink = True\n",
        "      if i.faces[i.value] == '🧠🧠':\n",
        "        print(\"Rolling \" + i.diceColor + \" Dice\")\n",
        "        print(\"You rolled 🧠🧠\")\n",
        "        self.turnBrains += 2\n",
        "        if i == hunkDice():\n",
        "          self.hunkDied = True\n",
        "\n",
        "  def endTurn(self, shotgunEnded):\n",
        "    if shotgunEnded == False:\n",
        "      self.score += self.turnGreenDice\n",
        "      self.turnGreenDice = 5\n",
        "      self.turnYellowDice = 2\n",
        "      self.turnRedDice = 3\n",
        "      self.turnHunkDice = 1\n",
        "      self.turnSantaDice = 1\n",
        "      self.turnHottieDice = 1\n",
        "      self.hunkDied = False\n",
        "      self.hottieDied = False\n",
        "      self.santaDied = False\n",
        "      self.helmet = False\n",
        "      self.drink = False\n",
        "    self.diceToReroll = []\n",
        "\n",
        "class interactiveMode(Player):\n",
        "  def takeTurn(self):\n",
        "    turnEnded = False\n",
        "    while turnEnded == False:\n",
        "      self.rollForTurn()\n",
        "      if (self.score + self.turnBrains) >= 13:\n",
        "        print(\"You win\")\n",
        "        self.endTurn(False)\n",
        "        turnEnded = True\n",
        "      if self.helmet == True:\n",
        "        if self.turnShotgun >= 4:\n",
        "          print(\"You got three shotguns, you lost this turn's brains\")\n",
        "          self.endTurn(True)\n",
        "          turnEnded = True\n",
        "      else:\n",
        "        if self.turnShotgun >= 3:\n",
        "          print(\"You got three shotguns, you lost this turn's brains\")\n",
        "          self.endTurn(True)\n",
        "          turnEnded = True\n",
        "      userResponse = input('Roll again? (Type Y or N)')\n",
        "      if userResponse == 'N':\n",
        "        self.endTurn(False)\n",
        "        turnEnded = True\n",
        "  \n",
        "class greedyPlayer(Player):\n",
        "  def takeTurn(self):\n",
        "    turnEnded = False\n",
        "    while turnEnded == False:\n",
        "      self.rollForTurn()\n",
        "      if (self.score + self.turnBrains) >= 13:\n",
        "        print(\"You win\")\n",
        "        self.endTurn(False)\n",
        "        turnEnded = True\n",
        "      if self.turnShotgun >= 3:\n",
        "        print(\"You got three shotguns, you lost this turn's brains\")\n",
        "        self.endTurn(True)\n",
        "        turnEnded = True\n",
        "\n",
        "class randomPlayer(Player):\n",
        "  def takeTurn(self):\n",
        "    turnEnded = False\n",
        "    while turnEnded == False:\n",
        "      self.rollForTurn()\n",
        "      if (self.score + self.turnBrains) >= 13:\n",
        "        print(\"You win\")\n",
        "        self.endTurn(False)\n",
        "        turnEnded = True\n",
        "      if self.turnShotgun >= 3:\n",
        "        print(\"You got three shotguns, you lost this turn's brains\")\n",
        "        self.endTurn(True)\n",
        "        turnEnded = True\n",
        "      ran = randint(1,2)\n",
        "      if ran == 1:\n",
        "        self.endTurn(False)\n",
        "        turnEnded = True\n",
        "\n"
      ],
      "execution_count": null,
      "outputs": []
    },
    {
      "cell_type": "code",
      "metadata": {
        "id": "_HxesXROpbqk"
      },
      "source": [
        "# Implement the ZombieDiceGame class.\n",
        "\n",
        "class ZombieDiceGame:\n",
        "\n",
        "  def __init__(self, *players):\n",
        "    self.players = [p for p in players]\n",
        "    for p in players:\n",
        "        p.score = 0\n",
        "\n",
        "  \n",
        "  def play(self):\n",
        "    if len(self.players) < 2:\n",
        "      return (\"Need a minimum of 2 players.\")\n",
        "\n",
        "    while True:\n",
        "      for p in self.players:\n",
        "        print (p.name + \"'s turn: \")\n",
        "        p.takeTurn()\n",
        "        print(str(p.name) + \"'s score: \" + str(p.score))\n",
        "\n",
        "        if p.score >= 13:\n",
        "          return (p.name + \" wins the game!\")\n"
      ],
      "execution_count": null,
      "outputs": []
    },
    {
      "cell_type": "markdown",
      "metadata": {
        "id": "zm6gEXjupbqk"
      },
      "source": [
        "## Part Three: Play\n",
        "\n",
        "Create a new `ZombieDiceGame` object, and simulate or play a game. Methods from your classes should provide print statements that show what is happening at each step. You should have additional print statements showing whose turn it is, the scores after each turn, and who wins when the game is over."
      ]
    },
    {
      "cell_type": "code",
      "metadata": {
        "id": "daryIBsepbqk",
        "colab": {
          "base_uri": "https://localhost:8080/",
          "height": 1000
        },
        "outputId": "d89493f4-580d-43b7-ec1f-d84683f6e037"
      },
      "source": [
        "# Instantiate a new ZombieDiceGame object, and play the game!\n",
        " \n",
        "p1 = interactiveMode(\"Sally\")\n",
        "# p2 = GreedyPlayer(\"Andy\")\n",
        "# p3 = InteractiveMode(\"Sam\")\n",
        "p4 = randomPlayer(\"Jack\")\n",
        "\n",
        "game = ZombieDiceGame(p1, p4)\n",
        "game.play()"
      ],
      "execution_count": null,
      "outputs": [
        {
          "output_type": "stream",
          "name": "stdout",
          "text": [
            "Sally's turn: \n",
            "Rolling Green Dice\n",
            "You rolled 🧠\n",
            "Rolling Hottie Dice\n",
            "You rolled 👣\n",
            "Rolling Green Dice\n",
            "You rolled 🧠\n",
            "Roll again? (Type Y or N)Y\n",
            "Rolling Green Dice\n",
            "You rolled 💥\n",
            "Rolling Green Dice\n",
            "You rolled 🧠\n",
            "Rolling Hottie Dice\n",
            "You rolled 👣\n",
            "Roll again? (Type Y or N)Y\n",
            "Rolling Red Dice\n",
            "You rolled 💥\n",
            "Rolling Hottie Dice\n",
            "You rolled 👣\n",
            "Rolling Hottie Dice\n",
            "You rolled 👣\n",
            "Roll again? (Type Y or N)Y\n",
            "Rolling Hottie Dice\n",
            "You rolled 💥\n",
            "Rolling Hottie Dice\n",
            "You rolled 👣\n",
            "Rolling Hottie Dice\n",
            "You rolled 🧠\n",
            "Rolling Hottie Dice\n",
            "You rolled 🧠\n",
            "You got three shotguns, you lost this turn's brains\n",
            "Roll again? (Type Y or N)Y\n",
            "Sally's score: 0\n",
            "Jack's turn: \n",
            "Rolling Santa Dice\n",
            "You rolled 🪖\n",
            "Rolling Hunk Dice\n",
            "You rolled 👣\n",
            "Rolling Green Dice\n",
            "You rolled 👣\n",
            "Rolling Green Dice\n",
            "You rolled 🧠\n",
            "Rolling Hunk Dice\n",
            "You rolled 👣\n",
            "Rolling Green Dice\n",
            "You rolled 🧠\n",
            "Jack's score: 3\n",
            "Sally's turn: \n",
            "Rolling Yellow Dice\n",
            "You rolled 👣\n",
            "Rolling Red Dice\n",
            "You rolled 🧠\n",
            "Rolling Green Dice\n",
            "You rolled 👣\n",
            "You got three shotguns, you lost this turn's brains\n",
            "Roll again? (Type Y or N)N\n",
            "Sally's score: 0\n",
            "Jack's turn: \n",
            "Rolling Santa Dice\n",
            "You rolled 👣\n",
            "Rolling Green Dice\n",
            "You rolled 🧠\n",
            "Rolling Red Dice\n",
            "You rolled 👣\n",
            "Jack's score: 7\n",
            "Sally's turn: \n",
            "Rolling Green Dice\n",
            "You rolled 👣\n",
            "Rolling Green Dice\n",
            "You rolled 💥\n",
            "Rolling Green Dice\n",
            "You rolled 🧠\n",
            "You got three shotguns, you lost this turn's brains\n",
            "Roll again? (Type Y or N)Y\n",
            "Sally's score: 0\n",
            "Jack's turn: \n",
            "Rolling Yellow Dice\n",
            "You rolled 💥\n",
            "Rolling Santa Dice\n",
            "You rolled 🧠\n",
            "Rolling Yellow Dice\n",
            "You rolled 👣\n",
            "Rolling Green Dice\n",
            "You rolled 💥\n",
            "Rolling Green Dice\n",
            "You rolled 🧠\n",
            "Rolling Yellow Dice\n",
            "You rolled 🧠\n",
            "You win\n",
            "Jack's score: 15\n"
          ]
        },
        {
          "output_type": "execute_result",
          "data": {
            "application/vnd.google.colaboratory.intrinsic+json": {
              "type": "string"
            },
            "text/plain": [
              "'Jack wins the game!'"
            ]
          },
          "metadata": {},
          "execution_count": 10
        }
      ]
    },
    {
      "cell_type": "code",
      "source": [
        ""
      ],
      "metadata": {
        "id": "gZBMw82GlH4h"
      },
      "execution_count": null,
      "outputs": []
    }
  ]
}